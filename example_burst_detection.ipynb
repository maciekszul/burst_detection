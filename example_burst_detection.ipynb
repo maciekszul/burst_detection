{
 "cells": [
  {
   "cell_type": "code",
   "execution_count": 28,
   "id": "94d8eb55-29e3-4171-be96-fb5cf8b38017",
   "metadata": {},
   "outputs": [],
   "source": [
    "from burst_detection import extract_bursts\n",
    "import numpy as np\n",
    "from fooof import FOOOF\n",
    "import matplotlib.pylab as plt\n",
    "import new_files\n",
    "from mne import read_epochs\n",
    "dir_search = new_files.Files()"
   ]
  },
  {
   "cell_type": "code",
   "execution_count": 7,
   "id": "79170ce6-e1c1-4db6-8e4f-d5d893d977e7",
   "metadata": {},
   "outputs": [],
   "source": [
    "path = \"/home/mszul/datasets/explicit_implicit_beta/derivatives/processed/sub-101/sub-101-007-visual-epo\"\n",
    "files = dir_search.get_files(path, \"*.npy\")\n",
    "files = files[:10]"
   ]
  },
  {
   "cell_type": "code",
   "execution_count": 38,
   "id": "bb99bf5e-5075-40a3-882c-848eb9bff889",
   "metadata": {},
   "outputs": [],
   "source": [
    "epo = \"/home/mszul/datasets/explicit_implicit_beta/derivatives/processed/sub-101/sub-101-007-visual-epo.fif\"\n",
    "epochs = read_epochs(epo, verbose=False)\n",
    "epochs = epochs.pick_types(meg=True, ref_meg=False, misc=False)\n",
    "times = epochs.times\n",
    "epochs = epochs.get_data()\n",
    "epochs = epochs[:10, 11, :] # first 10 trials x sensor (11) x time"
   ]
  },
  {
   "cell_type": "code",
   "execution_count": 19,
   "id": "41c839d2-da2d-4b43-a5e2-2176a1b714ca",
   "metadata": {},
   "outputs": [],
   "source": [
    "freqs = np.linspace(1,120, num=400)\n",
    "sfreq = 600.0\n",
    "search_range = np.where((freqs >= 10) & (freqs <= 33))[0]\n",
    "beta_lims = [13, 30]"
   ]
  },
  {
   "cell_type": "code",
   "execution_count": 10,
   "id": "48bc70d2-80ce-4467-ac16-00545c8ad96a",
   "metadata": {},
   "outputs": [],
   "source": [
    "trials = []\n",
    "for f in files:\n",
    "    trials.append(np.load(f)[11]) # 10 trials from one sensor"
   ]
  },
  {
   "cell_type": "code",
   "execution_count": 12,
   "id": "b5d60059-9033-4998-966f-4222392599e9",
   "metadata": {},
   "outputs": [],
   "source": [
    "trials = np.array(trials) # trials x frequencies (1-120) x time"
   ]
  },
  {
   "cell_type": "code",
   "execution_count": 45,
   "id": "170b4908-c3cf-4363-8ff5-f370422c00c3",
   "metadata": {},
   "outputs": [
    {
     "data": {
      "text/plain": [
       "(10, 400, 1801)"
      ]
     },
     "execution_count": 45,
     "metadata": {},
     "output_type": "execute_result"
    }
   ],
   "source": [
    "trials.shape"
   ]
  },
  {
   "cell_type": "code",
   "execution_count": 17,
   "id": "17690118-2502-4d30-84bb-60124ca30119",
   "metadata": {},
   "outputs": [],
   "source": [
    "average_psd = np.average(trials, axis=(2, 0))"
   ]
  },
  {
   "cell_type": "code",
   "execution_count": 27,
   "id": "475b68df-6d27-4e7e-8006-67ffff5073a5",
   "metadata": {
    "scrolled": true
   },
   "outputs": [
    {
     "data": {
      "text/plain": [
       "<matplotlib.legend.Legend at 0x7f83c8c3bb80>"
      ]
     },
     "execution_count": 27,
     "metadata": {},
     "output_type": "execute_result"
    },
    {
     "data": {
      "image/png": "[encoded data removed]",
      "text/plain": [
       "<Figure size 720x360 with 1 Axes>"
      ]
     },
     "metadata": {
      "needs_background": "light"
     },
     "output_type": "display_data"
    }
   ],
   "source": [
    "f, ax = plt.subplots(1 , 1, figsize=(10, 5))\n",
    "ff = FOOOF()\n",
    "ff.fit(freqs, average_psd, [1, 120])\n",
    "ap = 10 ** ff._ap_fit \n",
    "ax.plot(freqs, average_psd, c=\"red\", label=\"averaged PSD - 10 trials\")\n",
    "ax.plot(freqs, ap, c=\"blue\", label=\"FOOOF AP FIT\")\n",
    "ax.legend()"
   ]
  },
  {
   "cell_type": "code",
   "execution_count": 43,
   "id": "03bffbf8-7a1e-4e53-9dbb-55644c8f9e50",
   "metadata": {},
   "outputs": [],
   "source": [
    "bursts = extract_bursts(\n",
    "    epochs, trials[:,search_range], times, freqs[search_range], beta_lims, ap[search_range].reshape(-1, 1), sfreq\n",
    ")"
   ]
  },
  {
   "cell_type": "code",
   "execution_count": null,
   "id": "97b8c477-6566-45f5-b60f-9f66337fefaa",
   "metadata": {},
   "outputs": [],
   "source": []
  }
 ],
 "metadata": {
  "kernelspec": {
   "display_name": "Python 3 (ipykernel)",
   "language": "python",
   "name": "python3"
  },
  "language_info": {
   "codemirror_mode": {
    "name": "ipython",
    "version": 3
   },
   "file_extension": ".py",
   "mimetype": "text/x-python",
   "name": "python",
   "nbconvert_exporter": "python",
   "pygments_lexer": "ipython3",
   "version": "3.9.7"
  }
 },
 "nbformat": 4,
 "nbformat_minor": 5
}
